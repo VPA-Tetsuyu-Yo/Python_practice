{
 "cells": [
  {
   "cell_type": "code",
   "execution_count": 14,
   "metadata": {},
   "outputs": [],
   "source": [
    "import xlwt\n",
    "wb = xlwt.Workbook()\n",
    "sh1 = wb.add_sheet(\"商品リスト\")\n",
    "sh1.write(0, 0, \"品名\")\n",
    "sh1.write(0, 1, \"スッペク\")\n",
    "sh1.write(0, 2, \"在庫数\")\n",
    "sh1.write(1, 0, \"Surface Go 3\")\n",
    "sh1.write(1, 1, \"PM,4,64\")\n",
    "sh1.write(1, 2, 10)\n",
    "sh1.write(2, 0, \"Surface Go 3\")\n",
    "sh1.write(2, 1, \"PM,8,128\")\n",
    "sh1.write(2, 2, 25)\n",
    "sh1.write(3, 0, \"Surface Go 2\")\n",
    "sh1.write(3, 1, \"M3,8,128\")\n",
    "sh1.write(3, 2, 5)\n",
    "wb.save(r\"C:/PythonProjects/Python_Practice/Study & Parctice/商品リスト.xls\")\n",
    "\n",
    "\n"
   ]
  },
  {
   "cell_type": "code",
   "execution_count": 15,
   "metadata": {},
   "outputs": [
    {
     "name": "stdout",
     "output_type": "stream",
     "text": [
      "1\n"
     ]
    }
   ],
   "source": [
    "import xlrd\n",
    "wb1 = xlrd.open_workbook(r\"C:/PythonProjects/Python_Practice/Study & Parctice/商品リスト.xls\")\n",
    "print(wb1.nsheets)"
   ]
  },
  {
   "cell_type": "code",
   "execution_count": 16,
   "metadata": {},
   "outputs": [
    {
     "name": "stdout",
     "output_type": "stream",
     "text": [
      "['商品リスト']\n"
     ]
    }
   ],
   "source": [
    "print(wb1.sheet_names())"
   ]
  },
  {
   "cell_type": "code",
   "execution_count": 17,
   "metadata": {},
   "outputs": [
    {
     "name": "stdout",
     "output_type": "stream",
     "text": [
      "[text:'品名', text:'スッペク', text:'在庫数']\n",
      "[text:'Surface Go 3', text:'PM,4,64', number:10.0]\n",
      "[text:'Surface Go 3', text:'PM,8,128', number:25.0]\n",
      "[text:'Surface Go 2', text:'M3,8,128', number:5.0]\n"
     ]
    }
   ],
   "source": [
    "for sh in wb1.sheets():\n",
    "    for r in range(sh.nrows):\n",
    "        print(sh.row(r))"
   ]
  },
  {
   "cell_type": "code",
   "execution_count": 21,
   "metadata": {},
   "outputs": [],
   "source": [
    "from xlutils.copy import copy\n",
    "import xlrd\n",
    "readbook = xlrd.open_workbook(r\"C:/PythonProjects/Python_Practice/Study & Parctice/商品リスト.xls\")\n",
    "wb = copy(readbook)\n",
    "sh1 = wb.get_sheet(0)\n",
    "sh1.write(4,0,\"Surface Go 2\")\n",
    "sh1.write(4,1,\"PM,8,128\")\n",
    "sh1.write(4,2,int(input(\"在庫数を入れってください：\")))\n",
    "wb.save(r\"C:/PythonProjects/Python_Practice/Study & Parctice/商品リスト1.xls\")"
   ]
  }
 ],
 "metadata": {
  "interpreter": {
   "hash": "b89b5cfaba6639976dc87ff2fec6d58faec662063367e2c229c520fe71072417"
  },
  "kernelspec": {
   "display_name": "Python 3.10.0 64-bit",
   "language": "python",
   "name": "python3"
  },
  "language_info": {
   "codemirror_mode": {
    "name": "ipython",
    "version": 3
   },
   "file_extension": ".py",
   "mimetype": "text/x-python",
   "name": "python",
   "nbconvert_exporter": "python",
   "pygments_lexer": "ipython3",
   "version": "3.10.0"
  },
  "orig_nbformat": 4
 },
 "nbformat": 4,
 "nbformat_minor": 2
}
